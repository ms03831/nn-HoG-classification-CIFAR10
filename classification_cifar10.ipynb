{
  "nbformat": 4,
  "nbformat_minor": 0,
  "metadata": {
    "kernelspec": {
      "name": "python3",
      "display_name": "Python 3"
    },
    "language_info": {
      "codemirror_mode": {
        "name": "ipython",
        "version": 3
      },
      "file_extension": ".py",
      "mimetype": "text/x-python",
      "name": "python",
      "nbconvert_exporter": "python",
      "pygments_lexer": "ipython3",
      "version": "3.7.3"
    },
    "colab": {
      "name": "Copy of classification_cifar10.ipynb",
      "provenance": [],
      "collapsed_sections": [],
      "include_colab_link": true
    }
  },
  "cells": [
    {
      "cell_type": "markdown",
      "metadata": {
        "id": "view-in-github",
        "colab_type": "text"
      },
      "source": [
        "<a href=\"https://colab.research.google.com/github/ms03831/nn-HoG-classification-CIFAR10/blob/master/classification_cifar10.ipynb\" target=\"_parent\"><img src=\"https://colab.research.google.com/assets/colab-badge.svg\" alt=\"Open In Colab\"/></a>"
      ]
    },
    {
      "cell_type": "code",
      "metadata": {
        "id": "Pr0tQV3zR1zR",
        "colab_type": "code",
        "outputId": "f698cbc6-1160-4993-e458-6892465f3056",
        "colab": {
          "base_uri": "https://localhost:8080/",
          "height": 34
        }
      },
      "source": [
        "import tensorflow as tf \n",
        "tf.__version__"
      ],
      "execution_count": 12,
      "outputs": [
        {
          "output_type": "execute_result",
          "data": {
            "text/plain": [
              "'2.2.0-rc2'"
            ]
          },
          "metadata": {
            "tags": []
          },
          "execution_count": 12
        }
      ]
    },
    {
      "cell_type": "code",
      "metadata": {
        "id": "INmWGG4GSPEq",
        "colab_type": "code",
        "colab": {}
      },
      "source": [
        "from tensorflow.keras.datasets import cifar10\n",
        "from matplotlib import pyplot as plt\n",
        "import cv2\n",
        "import pandas as pd \n",
        "from google.colab.patches import cv2_imshow\n",
        "from sklearn import svm\n",
        "import random\n",
        "from keras.utils.np_utils import to_categorical\n",
        "import numpy as np"
      ],
      "execution_count": 0,
      "outputs": []
    },
    {
      "cell_type": "markdown",
      "metadata": {
        "id": "XRvFzLSaTzFX",
        "colab_type": "text"
      },
      "source": [
        "# 1. Loading Dataset:\n",
        "- ##  About the dataset:\n",
        "The CIFAR-10 dataset is an image dataset that consists of 60000 32x32 colour images in 10 classes, with 6000 images per class. There are 50000 training images and 10000 test images.\n",
        "\n",
        "- ##  preprocessing steps for image data: \n",
        "  - resizing \n",
        "  - mean-normalisation \n",
        "  - capping the RBG values between 0, 1 (0 corresponds to 0 and 1 corresponds to 255)\n",
        "  - removing noise by applying some filter such as guassian blur/smoothing.\n"
      ]
    },
    {
      "cell_type": "code",
      "metadata": {
        "id": "3OSIHX1UTdY9",
        "colab_type": "code",
        "outputId": "a1ed1fd0-da21-4021-c79c-476ab3467e89",
        "colab": {
          "base_uri": "https://localhost:8080/",
          "height": 119
        }
      },
      "source": [
        "(x_train, y_train), (x_test, y_test) = cifar10.load_data()\n",
        "print(\"Shape of training data:\")\n",
        "print(x_train.shape)\n",
        "print(y_train.shape)\n",
        "print(\"Shape of test data:\")\n",
        "print(x_test.shape)\n",
        "print(y_test.shape)\n"
      ],
      "execution_count": 14,
      "outputs": [
        {
          "output_type": "stream",
          "text": [
            "Shape of training data:\n",
            "(50000, 32, 32, 3)\n",
            "(50000, 1)\n",
            "Shape of test data:\n",
            "(10000, 32, 32, 3)\n",
            "(10000, 1)\n"
          ],
          "name": "stdout"
        }
      ]
    },
    {
      "cell_type": "code",
      "metadata": {
        "id": "gvB9OOPQW1DE",
        "colab_type": "code",
        "outputId": "15fa4886-c621-4b9a-f6f8-bb751aa78f53",
        "colab": {
          "base_uri": "https://localhost:8080/",
          "height": 175
        }
      },
      "source": [
        "f, ax = plt.subplots(1, 5, figsize=(15, 5))\n",
        "\n",
        "indexes = random.choices(list(range(0, x_train.shape[0])), k = 5)\n",
        "for j, i in enumerate(indexes):\n",
        "  ax[j].imshow(x_train[i])\n",
        "  ax[j].axis('off')\n",
        "plt.show()"
      ],
      "execution_count": 15,
      "outputs": [
        {
          "output_type": "display_data",
          "data": {
            "image/png": "[encoded data removed]",
            "text/plain": [
              "<Figure size 1080x360 with 5 Axes>"
            ]
          },
          "metadata": {
            "tags": []
          }
        }
      ]
    },
    {
      "cell_type": "markdown",
      "metadata": {
        "id": "PaVwt2Kba1mS",
        "colab_type": "text"
      },
      "source": [
        "# 2. Filt\n",
        "Write a function \"filt\" whose aim would be to perform the task of filtering. The function should take the\n",
        "following arguments: input, filter, padding, normalization. The 'input' would be the numpy representation\n",
        "of an image over which filtering is to be performed - this will either have a single channel or three channels,\n",
        "'filter' would be a 2D numpy array representing the filter (for example: np.array([[1, 1, 1], [1, 1, 1], [1, 1,\n",
        "1]]), 'padding' would be a boolean value which would determine as to whether the output image should\n",
        "have the same size as the input image, and 'normalization' would again be a boolean value which would\n",
        "determine as to whether the filtering operation needs to be normalized or not. The output of this function\n",
        "should be the filtered image. Also note that the only external library which can be used in this function is\n",
        "\"numpy\""
      ]
    },
    {
      "cell_type": "code",
      "metadata": {
        "id": "H_caODpBZtl0",
        "colab_type": "code",
        "outputId": "c4442ce3-751b-42b5-f719-d14e7421a8f1",
        "colab": {
          "base_uri": "https://localhost:8080/",
          "height": 798
        }
      },
      "source": [
        "def filt(input, filter, padding, normalization):\n",
        "    \"\"\"\n",
        "    param: input - numpy representation of an input image \n",
        "    param: filter - 2D numpy array representing the filter  \n",
        "    param: padding -  boolean value as to whether the output image should have the same size as the input image\n",
        "    param: normalization - boolean value as to whether the filtering operation needs to be normalized or not. \n",
        "    return: returns the filtered image, as np array\n",
        "    \"\"\"\n",
        "    if len(input.shape) == 2: \n",
        "        f_shape = filter.shape + (1,)\n",
        "        i_shape = input.shape + (1,)\n",
        "        filter = filter.reshape(f_shape)\n",
        "        input = input.reshape(i_shape)\n",
        "        \n",
        "    n_1, n_2, n_3 = filter.shape\n",
        "    w, h, d = input.shape\n",
        "    input = np.array(input, dtype=np.float32)\n",
        "    v_min = input.min(axis=(0, 1), keepdims=True)\n",
        "    v_max = input.max(axis=(0, 1), keepdims=True)\n",
        "    input = (input - v_min)/(v_max - v_min)\n",
        "    x2 = input\n",
        "    if padding:\n",
        "        padding_w = (n_1 - 1)//2\n",
        "        padding_h = (n_2 - 1)//2\n",
        "        zero_pad_w = np.zeros((w, padding_w, d))\n",
        "        input = np.concatenate((zero_pad_w, input, zero_pad_w), axis=1)\n",
        "        zero_pad_h = np.zeros((padding_h, input.shape[1], d))\n",
        "        input = np.concatenate((zero_pad_h, input, zero_pad_h), axis=0)\n",
        "    w, h, d = input.shape\n",
        "    \n",
        "    new_shape = (w - n_1 + 1, h - n_2 + 1, d)\n",
        "    new_image = np.zeros(new_shape)\n",
        "    \n",
        "    if normalization:\n",
        "        n = np.sum(filter[:, :, 0])\n",
        "        filter = filter/n\n",
        "    for i in range(w-n_1+1):\n",
        "        for j in range(h-n_2+1):\n",
        "          for k in range(d):\n",
        "              new_image[i][j][k] = np.sum(input[i:i+n_1, j:j+n_2, k] * filter[:, :, k])\n",
        "    if new_image.shape[-1] == 1:\n",
        "        shape = new_image.shape[:2]\n",
        "        new_image = new_image.reshape(shape)\n",
        "    print(new_image.shape)\n",
        "    plt.imshow(new_image)#, cmap = 'gray')\n",
        "    plt.show()\n",
        "\n",
        "#(x_train, y_train), (x_test, y_test) = tf.keras.datasets.fashion_mnist.load_data()\n",
        "img = np.array(x_train[2])\n",
        "plt.imshow(img)#, cmap = 'gray')\n",
        "plt.show()\n",
        "filter_guass = cv2.getGaussianKernel(3, 0)\n",
        "\n",
        "filter_guass = np.dot(filter_guass, filter_guass.T)\n",
        "\n",
        "filter_guass = np.array([filter_guass, filter_guass, filter_guass])\n",
        "filter_guass = filter_guass.T\n",
        "filt(img, filter_guass, True, False)\n",
        "filt(img, filter_guass, True, True)"
      ],
      "execution_count": 24,
      "outputs": [
        {
          "output_type": "display_data",
          "data": {
            "image/png": "[encoded data removed]",
            "text/plain": [
              "<Figure size 432x288 with 1 Axes>"
            ]
          },
          "metadata": {
            "tags": []
          }
        },
        {
          "output_type": "stream",
          "text": [
            "(32, 32, 3)\n"
          ],
          "name": "stdout"
        },
        {
          "output_type": "display_data",
          "data": {
            "image/png": "[encoded data removed]",
            "text/plain": [
              "<Figure size 432x288 with 1 Axes>"
            ]
          },
          "metadata": {
            "tags": []
          }
        },
        {
          "output_type": "stream",
          "text": [
            "(32, 32, 3)\n"
          ],
          "name": "stdout"
        },
        {
          "output_type": "display_data",
          "data": {
            "image/png": "[encoded data removed]",
            "text/plain": [
              "<Figure size 432x288 with 1 Axes>"
            ]
          },
          "metadata": {
            "tags": []
          }
        }
      ]
    },
    {
      "cell_type": "markdown",
      "metadata": {
        "id": "pG4tN5ZHwsnE",
        "colab_type": "text"
      },
      "source": [
        "# 3. Extract HOG features from the CIFAR-10 dataset, and train a Linear SVM using those features.\n",
        "### You are expected to reach around 45% accuracy on test data using this method. "
      ]
    },
    {
      "cell_type": "code",
      "metadata": {
        "id": "duli8R3Vg_x9",
        "colab_type": "code",
        "outputId": "746f9f5d-29b5-45be-9d2c-baa9093321de",
        "colab": {
          "base_uri": "https://localhost:8080/",
          "height": 250
        }
      },
      "source": [
        "import matplotlib.pyplot as plt\n",
        "\n",
        "from skimage.feature import hog\n",
        "from skimage import data, exposure\n",
        "(x_train, y_train), (x_test, y_test) = cifar10.load_data()\n",
        "\n",
        "image = x_train[100]\n",
        "\n",
        "fd, hog_image = hog(image, orientations=8, multichannel=True, pixels_per_cell=(4, 4),\n",
        "                    cells_per_block=(1, 1), visualize=True)\n",
        "\n",
        "fig, (ax1, ax2) = plt.subplots(1, 2, figsize=(8, 4), sharex=True, sharey=True)\n",
        "\n",
        "ax1.axis('off')\n",
        "ax1.imshow(image, cmap=plt.cm.gray)\n",
        "ax1.set_title('Input image')\n",
        "\n",
        "# Rescale histogram for better display\n",
        "hog_image_rescaled = exposure.rescale_intensity(hog_image, in_range=(0, 10))\n",
        "\n",
        "ax2.axis('off')\n",
        "ax2.imshow(hog_image_rescaled, cmap=plt.cm.gray)\n",
        "ax2.set_title('Histogram of Oriented Gradients')\n",
        "plt.show()"
      ],
      "execution_count": 0,
      "outputs": [
        {
          "output_type": "display_data",
          "data": {
            "image/png": "[encoded data removed]",
            "text/plain": [
              "<Figure size 576x288 with 2 Axes>"
            ]
          },
          "metadata": {
            "tags": []
          }
        }
      ]
    },
    {
      "cell_type": "code",
      "metadata": {
        "id": "tz9pz38Zft85",
        "colab_type": "code",
        "colab": {}
      },
      "source": [
        "(x_train, y_train), (x_test, y_test) = cifar10.load_data()\n",
        "\n",
        "def svm_training(xtrain, ytrain):\n",
        "    \"\"\"\n",
        "    param: x_train: numpy array representation of train images\n",
        "    param: y_train: one-hot encoded labels\n",
        "    returns: trained SVM classifier\n",
        "    \"\"\"\n",
        "    clf = svm.SVC(kernel='poly')\n",
        "    clf.fit(xtrain, ytrain)\n",
        "    return clf\n",
        "\n",
        "def hog_features(img):\n",
        "    fd, hog_image = hog(image, orientations=24, pixels_per_cell=(4, 4),\n",
        "                    cells_per_block=(5, 5), visualize=True, multichannel=True)\n",
        "    return hog_image\n",
        "\n",
        "train_features = np.array([hog_features(img).flatten() for img in x_train])\n",
        "test_features = np.array([hog_features(img).flatten() for img in x_test])\n",
        "'''\n",
        "clf = svm_training(train_features, y_train)\n",
        "print(clf.predict(test_features[:10]), y_test[:10])\n",
        "clf.score(test_features, y_test) \n",
        "'''\n",
        "pd.DataFrame(train_features).to_csv(\"train_hog.csv\", header=None, index=None)\n",
        "pd.DataFrame(test_features).to_csv(\"test_hog.csv\", header=None, index=None)"
      ],
      "execution_count": 0,
      "outputs": []
    },
    {
      "cell_type": "code",
      "metadata": {
        "id": "JAcYTfS47aBy",
        "colab_type": "code",
        "colab": {}
      },
      "source": [
        "\n",
        "from sklearn.ensemble import RandomForestClassifier as rf\n",
        "\n",
        "model = rf()\n",
        "print('yes')\n",
        "model.fit(train_features, y_train)\n",
        "print(model.predict(test_features[:10]), y_test[:10])\n",
        "model.score(test_features, y_test) "
      ],
      "execution_count": 0,
      "outputs": []
    },
    {
      "cell_type": "code",
      "metadata": {
        "id": "czi7Qdg5GkZw",
        "colab_type": "code",
        "colab": {}
      },
      "source": [
        ""
      ],
      "execution_count": 0,
      "outputs": []
    }
  ]
}